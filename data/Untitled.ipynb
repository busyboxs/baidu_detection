{
 "cells": [
  {
   "cell_type": "code",
   "execution_count": 1,
   "metadata": {},
   "outputs": [],
   "source": [
    "import os\n",
    "import cv2"
   ]
  },
  {
   "cell_type": "code",
   "execution_count": null,
   "metadata": {},
   "outputs": [
    {
     "name": "stdout",
     "output_type": "stream",
     "text": [
      "(1, '0dd7912397dda144a3db0a9eb9b7d0a20df486cf.jpg')\n",
      "(2, '18d8bc3eb13533fa51d47487a2d3fd1f41345b3d.jpg')\n",
      "(3, '00e93901213fb80ec3aeeeca3ad12f2eb93894b4.jpg')\n",
      "(4, '09fa513d269759ee296d4151b9fb43166d22df6e.jpg')\n",
      "(5, '1b4c510fd9f9d72a137df49edf2a2834349bbb1c.jpg')\n",
      "(6, '1e30e924b899a901d6ad172417950a7b0208f50c.jpg')\n",
      "(7, '0b46f21fbe096b63c637676b06338744ebf8acda.jpg')\n",
      "(8, '14ce36d3d539b600070d292de250352ac75cb76c.jpg')\n",
      "(9, '08f790529822720ed5f58c7070cb0a46f21fab05.jpg')\n",
      "(10, '0b46f21fbe096b63e0864f4e00338744ebf8ac14.jpg')\n",
      "(11, '0dd7912397dda1444d90db17b8b7d0a20df486fe.jpg')\n",
      "(12, '0823dd54564e9258fd77debe9782d158ccbf4e1a.jpg')\n",
      "(13, '0b46f21fbe096b639f03b9ee07338744ebf8ac72.jpg')\n",
      "(14, '0b46f21fbe096b63070a21cb07338744ebf8ac1e.jpg')\n",
      "(15, '0e2442a7d933c895679e84e9da1373f0830200bb.jpg')\n",
      "(16, '0824ab18972bd407d35a166170899e510eb30989.jpg')\n",
      "(17, '1b4c510fd9f9d72a0be0fc1bdf2a2834349bbb34.jpg')\n",
      "(18, '09fa513d269759eef4830a58b9fb43166c22df56.jpg')\n",
      "(19, '0b55b319ebc4b7457e2e37d5c4fc1e178b8215be.jpg')\n",
      "(20, '279759ee3d6d55fb2537d0f166224f4a21a4dd70.jpg')\n",
      "(21, '08f790529822720e96374eeb77cb0a46f21fab22.jpg')\n",
      "(22, '0dd7912397dda14445b121aebeb7d0a20cf48676.jpg')\n",
      "(23, '0ff41bd5ad6eddc4a1ec5ddf32dbb6fd5266338f.jpg')\n",
      "(24, '203fb80e7bec54e78633ea3ab2389b504fc26a33.jpg')\n",
      "(25, '0824ab18972bd4071fc04a2670899e510eb309e1.jpg')\n",
      "(26, '0b55b319ebc4b74527db0c84c4fc1e178b8215d0.jpg')\n",
      "(27, '024f78f0f736afc3d50e4b43b819ebc4b7451291.jpg')\n",
      "(28, '0df3d7ca7bcb0a461534efbb6063f6246b60af1a.jpg')\n",
      "(29, '37d12f2eb9389b5091ac4ecc8e35e5dde6116ed9.jpg')\n",
      "(30, '023b5bb5c9ea15cee43bae8fbd003af33b87b25b.jpg')\n",
      "(31, '023b5bb5c9ea15cefcbf51afbc003af33b87b2c7.jpg')\n",
      "(32, '0ff41bd5ad6eddc42275d82c32dbb6fd53663352.jpg')\n",
      "(33, '08f790529822720eb010af6b70cb0a46f31fab41.jpg')\n",
      "(34, '32fa828ba61ea8d3ae1317cb9e0a304e241f58cf.jpg')\n",
      "(35, '18d8bc3eb13533fa81550701a3d3fd1f41345b39.jpg')\n",
      "(36, '0b55b319ebc4b7450b03288ac4fc1e178b821592.jpg')\n",
      "(37, '0b7b02087bf40ad142810bc15c2c11dfa9ecceaf.jpg')\n",
      "(38, '0e2442a7d933c895e46a077eda1373f08202009a.jpg')\n",
      "(39, '10dfa9ec8a136327ff5873279b8fa0ec08fac769.jpg')\n",
      "(40, '35a85edf8db1cb13844dcf0ad154564e92584b87.jpg')\n",
      "(41, '09fa513d269759eef4c30a44b9fb43166c22dfaa.jpg')\n",
      "(42, '0b55b319ebc4b745a0e78d47c4fc1e178a82156b.jpg')\n",
      "(43, '08f790529822720ee99999e177cb0a46f21fab52.jpg')\n",
      "(44, '0df431adcbef7609f71a02d924dda3cc7cd99e67.jpg')\n",
      "(45, '1b4c510fd9f9d72a30aad636d82a2834359bbbcb.jpg')\n",
      "(46, '1c950a7b02087bf4aa101acdf9d3572c11dfcf12.jpg')\n",
      "(47, '1ad5ad6eddc451da86b0ffcfbdfd5266d016324b.jpg')\n",
      "(48, '0b55b319ebc4b7450490298ac4fc1e178a821521.jpg')\n",
      "(49, '0b7b02087bf40ad1b65bb73d5c2c11dfa8ecceb5.jpg')\n",
      "(50, '1e30e924b899a901d65b16a716950a7b0208f531.jpg')\n",
      "(51, '024f78f0f736afc35d4ec1a3ba19ebc4b64512b1.jpg')\n",
      "(52, '0bd162d9f2d3572ca9a3cf188313632763d0c3b5.jpg')\n",
      "(53, '0823dd54564e92586e0868509682d158ccbf4e54.jpg')\n",
      "(54, '0bd162d9f2d3572ce9278d018113632763d0c322.jpg')\n",
      "(55, '0e2442a7d933c895558ff6e4da1373f0830200bf.jpg')\n",
      "(56, '18d8bc3eb13533fac34ec506a3d3fd1f41345b19.jpg')\n",
      "(57, '14ce36d3d539b6002a827a0ee250352ac65cb73e.jpg')\n",
      "(58, '0dd7912397dda1447736de20b9b7d0a20cf48661.jpg')\n",
      "(59, '060828381f30e9247ebae01c40086e061d95f785.jpg')\n",
      "(60, '03087bf40ad162d9848ff3c31adfa9ec8b13cd88.jpg')\n",
      "(61, '0823dd54564e92581893631d9782d158cdbf4e9a.jpg')\n",
      "(62, '0823dd54564e9258dd9d3efc9782d158ccbf4e72.jpg')\n"
     ]
    }
   ],
   "source": [
    "test_path = 'test.txt'\n",
    "test_img_dir = 'test/'\n",
    "with open(test_path, 'r') as f:\n",
    "    lines = f.readlines()\n",
    "    for i, line in enumerate(lines):\n",
    "        img_path = os.path.join(test_img_dir, line.strip())\n",
    "        im = cv2.imread(img_path)\n",
    "        print(i+1, line.strip())\n",
    "        cv2.imshow('0', im)\n",
    "        if cv2.waitKey(0)&0xFF == ord('q'):\n",
    "            break\n",
    "    cv2.destroyAllWindows()"
   ]
  },
  {
   "cell_type": "code",
   "execution_count": null,
   "metadata": {},
   "outputs": [],
   "source": [
    ""
   ]
  }
 ],
 "metadata": {
  "kernelspec": {
   "display_name": "Python 2",
   "language": "python",
   "name": "python2"
  },
  "language_info": {
   "codemirror_mode": {
    "name": "ipython",
    "version": 2.0
   },
   "file_extension": ".py",
   "mimetype": "text/x-python",
   "name": "python",
   "nbconvert_exporter": "python",
   "pygments_lexer": "ipython2",
   "version": "2.7.14"
  }
 },
 "nbformat": 4,
 "nbformat_minor": 0
}